{
 "cells": [
  {
   "attachments": {},
   "cell_type": "markdown",
   "metadata": {},
   "source": [
    "# .mht to .json"
   ]
  },
  {
   "attachments": {},
   "cell_type": "markdown",
   "metadata": {},
   "source": [
    "## Imports"
   ]
  },
  {
   "cell_type": "code",
   "execution_count": 37,
   "metadata": {},
   "outputs": [],
   "source": [
    "import json"
   ]
  },
  {
   "attachments": {},
   "cell_type": "markdown",
   "metadata": {},
   "source": [
    "## Define Constants"
   ]
  },
  {
   "cell_type": "code",
   "execution_count": 38,
   "metadata": {},
   "outputs": [],
   "source": [
    "test1 = \"./Invoice_Testdatei.mht\"\n",
    "test2 = \"./ORDER_Testdatei_neu.mht\"\n",
    "created_new_file = \"./new.mht\"\n",
    "data_dict = dict()"
   ]
  },
  {
   "attachments": {},
   "cell_type": "markdown",
   "metadata": {},
   "source": [
    "## Define Functions"
   ]
  },
  {
   "attachments": {},
   "cell_type": "markdown",
   "metadata": {},
   "source": [
    "### Python dictionaries does not accep duplicate keys.\n",
    "### So.."
   ]
  },
  {
   "cell_type": "code",
   "execution_count": 39,
   "metadata": {},
   "outputs": [],
   "source": [
    "def add_value(dict_obj, key, value):\n",
    "    if key not in dict_obj:\n",
    "        dict_obj[key] = value        \n",
    "    elif isinstance(dict_obj[key], list):\n",
    "        dict_obj[key].append(value)        \n",
    "    else:\n",
    "        dict_obj[key] = [dict_obj[key], value]"
   ]
  },
  {
   "cell_type": "markdown",
   "metadata": {},
   "source": [
    "### Preparing mht file for process"
   ]
  },
  {
   "cell_type": "code",
   "execution_count": 40,
   "metadata": {},
   "outputs": [],
   "source": [
    "def prepare_file(filename):\n",
    "    file_in = open(filename, \"rt\")\n",
    "    file_out = open(\"new.mht\", \"wt\")\n",
    "\n",
    "    for line in file_in:\n",
    "        file_out.write(line.replace(\"'\", \"*\"))\n",
    "\n",
    "    file_out.close()\n",
    "    file_in.close()"
   ]
  },
  {
   "attachments": {},
   "cell_type": "markdown",
   "metadata": {},
   "source": [
    "## Tests"
   ]
  },
  {
   "cell_type": "code",
   "execution_count": 41,
   "metadata": {},
   "outputs": [],
   "source": [
    "# prepare_file(test1)\n",
    "prepare_file(test2)"
   ]
  },
  {
   "attachments": {},
   "cell_type": "markdown",
   "metadata": {},
   "source": [
    "## Fill the Dictionary"
   ]
  },
  {
   "cell_type": "code",
   "execution_count": 42,
   "metadata": {},
   "outputs": [],
   "source": [
    "with open(created_new_file) as file:\n",
    "    for line in file:\n",
    "        segment_elements = line.split(\"'\\n\")[0]\n",
    "        add_value(data_dict, segment_elements.split(\"+\")[0], segment_elements.split(\"+\")[1:])"
   ]
  },
  {
   "attachments": {},
   "cell_type": "markdown",
   "metadata": {},
   "source": [
    "## Create Json File"
   ]
  },
  {
   "cell_type": "code",
   "execution_count": 43,
   "metadata": {},
   "outputs": [],
   "source": [
    "with open(\"sample.json\", \"w\") as outfile:\n",
    "    json.dump(data_dict, outfile) "
   ]
  }
 ],
 "metadata": {
  "kernelspec": {
   "display_name": "Python 3.9.9 64-bit",
   "language": "python",
   "name": "python3"
  },
  "language_info": {
   "codemirror_mode": {
    "name": "ipython",
    "version": 3
   },
   "file_extension": ".py",
   "mimetype": "text/x-python",
   "name": "python",
   "nbconvert_exporter": "python",
   "pygments_lexer": "ipython3",
   "version": "3.9.9"
  },
  "orig_nbformat": 4,
  "vscode": {
   "interpreter": {
    "hash": "d4abd69ca15490a0369883ffe0fd7cf25344773e2af09a186fd15b94575251e1"
   }
  }
 },
 "nbformat": 4,
 "nbformat_minor": 2
}
